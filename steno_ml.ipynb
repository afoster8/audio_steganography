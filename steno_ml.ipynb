{
 "cells": [
  {
   "cell_type": "markdown",
   "metadata": {},
   "source": [
    "# Final Project -- Audio Steganography & MFCC Steganalysis"
   ]
  },
  {
   "cell_type": "markdown",
   "metadata": {},
   "source": [
    "## Amanda Foster"
   ]
  },
  {
   "cell_type": "code",
   "execution_count": 58,
   "metadata": {},
   "outputs": [],
   "source": [
    "import os\n",
    "import librosa\n",
    "import numpy as np\n",
    "from sklearn.model_selection import train_test_split\n",
    "from sklearn.preprocessing import StandardScaler\n",
    "from sklearn.svm import SVC\n",
    "from sklearn.ensemble import RandomForestClassifier\n",
    "from sklearn.metrics import accuracy_score, classification_report\n",
    "import wave\n",
    "from scipy.signal import butter, filtfilt\n",
    "import pandas as pd"
   ]
  },
  {
   "cell_type": "code",
   "execution_count": 59,
   "metadata": {},
   "outputs": [],
   "source": [
    "def apply_lowpass_filter(data, cutoff, sr, order=5):\n",
    "    nyquist = 0.5 * sr\n",
    "    normal_cutoff = cutoff / nyquist\n",
    "    b, a = butter(order, normal_cutoff, btype='low', analog=False)\n",
    "    filtered_data = filtfilt(b, a, data)\n",
    "    \n",
    "    return filtered_data"
   ]
  },
  {
   "cell_type": "code",
   "execution_count": 60,
   "metadata": {},
   "outputs": [],
   "source": [
    "def insert_data(audio_file, message, output_file):\n",
    "    try: \n",
    "      with wave.open(audio_file, 'rb') as file:\n",
    "          frame_bytes = bytearray(file.readframes(file.getnframes()))\n",
    "          sr = file.getframerate()\n",
    "      \n",
    "      cutoff = 10000  \n",
    "      filtered_signal = apply_lowpass_filter(np.frombuffer(frame_bytes, dtype=np.int16), cutoff, sr)\n",
    "      frame_bytes_filtered = filtered_signal.astype(np.int16).tobytes()\n",
    "      \n",
    "      message += \"#####\"\n",
    "      message_bits = ''.join(format(ord(char), '08b') for char in message)\n",
    "      message_length = len(message_bits)\n",
    "      \n",
    "      if message_length * 2 > len(frame_bytes_filtered):\n",
    "          raise ValueError(\"Message is too large to be embedded in the audio file.\")\n",
    "      \n",
    "      for i in range(message_length):\n",
    "          frame_bytes[i] &= 0xFE\n",
    "          frame_bytes[i] |= int(message_bits[i])\n",
    "      \n",
    "      with wave.open(output_file, 'wb') as file:\n",
    "          file.setparams((1, 2, sr, len(frame_bytes), 'NONE', 'not compressed'))\n",
    "          file.writeframes(frame_bytes)\n",
    "      \n",
    "    except Exception as e:\n",
    "      print(\"An error occured while embedding the file: \", e)\n",
    "\n",
    "\n",
    "def embed(audio_file, message):\n",
    "  output_file = os.path.join(\"output_files\", os.path.splitext(os.path.basename(audio_file))[0] + \"_embedded\")\n",
    "  output_file += \".wav\"\n",
    "  \n",
    "  insert_data(audio_file, message, output_file)"
   ]
  },
  {
   "cell_type": "code",
   "execution_count": 61,
   "metadata": {},
   "outputs": [],
   "source": [
    "def extract_data(audio_file):\n",
    "  try:\n",
    "    with wave.open(audio_file, 'rb') as file:\n",
    "        frame_bytes = bytearray(file.readframes(file.getnframes()))\n",
    "    \n",
    "    extracted_bits = []\n",
    "    for byte in frame_bytes:\n",
    "        extracted_bit = byte & 1\n",
    "        extracted_bits.append(extracted_bit)\n",
    "    \n",
    "    extracted_message = ''.join(chr(int(''.join(map(str, extracted_bits[i:i+8])), 2)) for i in range(0, len(extracted_bits), 8))\n",
    "    \n",
    "    end_index = extracted_message.find('#####')\n",
    "    if end_index != -1:\n",
    "        extracted_message = extracted_message[:end_index]\n",
    "    \n",
    "    return extracted_message\n",
    "  \n",
    "  except Exception as e:\n",
    "    print(\"An error occurred while extracting the message\", e)\n",
    "    return None\n",
    "  \n",
    "def extract(audio_file):\n",
    "  extracted_message = extract_data(audio_file)\n",
    "  return extracted_message"
   ]
  },
  {
   "cell_type": "code",
   "execution_count": 62,
   "metadata": {},
   "outputs": [
    {
     "name": "stdout",
     "output_type": "stream",
     "text": [
      "Extracted messages: ['we embedded a message into LJ003-0252.wav', 'we embedded a message into LJ001-0118.wav', 'we embedded a message into LJ003-0300.wav', 'we embedded a message into LJ001-0016.wav', 'we embedded a message into LJ002-0258.wav', 'we embedded a message into LJ003-0132.wav', 'we embedded a message into LJ001-0125.wav', 'we embedded a message into LJ001-0059.wav', 'we embedded a message into LJ001-0141.wav', 'we embedded a message into LJ002-0103.wav', 'we embedded a message into LJ003-0212.wav', 'we embedded a message into LJ002-0223.wav', 'we embedded a message into LJ001-0066.wav', 'we embedded a message into LJ002-0046.wav', 'we embedded a message into LJ001-0110.wav', 'we embedded a message into LJ002-0294.wav', 'we embedded a message into LJ002-0146.wav', 'we embedded a message into LJ002-0200.wav', 'we embedded a message into LJ003-0149.wav', 'we embedded a message into LJ003-0214.wav', 'we embedded a message into LJ002-0169.wav', 'we embedded a message into LJ003-0113.wav', 'we embedded a message into LJ003-0183.wav', 'we embedded a message into LJ003-0072.wav', 'we embedded a message into LJ002-0233.wav', 'we embedded a message into LJ003-0016.wav', 'we embedded a message into LJ003-0100.wav', 'we embedded a message into LJ003-0030.wav', 'we embedded a message into LJ001-0121.wav', 'we embedded a message into LJ003-0029.wav', 'we embedded a message into LJ003-0255.wav', 'we embedded a message into LJ003-0161.wav', 'we embedded a message into LJ002-0335.wav', 'we embedded a message into LJ003-0042.wav', 'we embedded a message into LJ003-0172.wav', 'we embedded a message into LJ001-0106.wav', 'we embedded a message into LJ001-0103.wav', 'we embedded a message into LJ002-0275.wav', 'we embedded a message into LJ002-0067.wav', 'we embedded a message into LJ003-0054.wav', 'we embedded a message into LJ002-0248.wav', 'we embedded a message into LJ001-0021.wav', 'we embedded a message into LJ002-0224.wav', 'we embedded a message into LJ002-0098.wav', 'we embedded a message into LJ002-0274.wav', 'we embedded a message into LJ001-0010.wav', 'we embedded a message into LJ001-0039.wav', 'we embedded a message into LJ001-0114.wav', 'we embedded a message into LJ001-0036.wav', 'we embedded a message into LJ002-0323.wav', 'we embedded a message into LJ001-0164.wav', 'we embedded a message into LJ002-0145.wav', 'we embedded a message into LJ002-0089.wav', 'we embedded a message into LJ003-0279.wav', 'we embedded a message into LJ002-0240.wav', 'we embedded a message into LJ002-0025.wav', 'we embedded a message into LJ001-0015.wav', 'we embedded a message into LJ002-0177.wav', 'we embedded a message into LJ003-0081.wav', 'we embedded a message into LJ003-0260.wav', 'we embedded a message into LJ003-0288.wav', 'we embedded a message into LJ002-0028.wav', 'we embedded a message into LJ001-0166.wav', 'we embedded a message into LJ003-0006.wav', 'we embedded a message into LJ003-0270.wav', 'we embedded a message into LJ002-0149.wav', 'we embedded a message into LJ001-0065.wav', 'we embedded a message into LJ002-0124.wav', 'we embedded a message into LJ002-0139.wav', 'we embedded a message into LJ001-0180.wav', 'we embedded a message into LJ003-0198.wav', 'we embedded a message into LJ002-0161.wav', 'we embedded a message into LJ002-0191.wav', 'we embedded a message into LJ002-0082.wav', 'we embedded a message into LJ002-0280.wav', 'we embedded a message into LJ001-0156.wav', 'we embedded a message into LJ003-0102.wav', 'we embedded a message into LJ003-0046.wav', 'we embedded a message into LJ001-0075.wav', 'we embedded a message into LJ003-0084.wav', 'we embedded a message into LJ001-0086.wav', 'we embedded a message into LJ002-0017.wav', 'we embedded a message into LJ003-0189.wav', 'we embedded a message into LJ001-0046.wav', 'we embedded a message into LJ002-0159.wav', 'we embedded a message into LJ001-0081.wav', 'we embedded a message into LJ002-0271.wav', 'we embedded a message into LJ002-0071.wav', 'we embedded a message into LJ001-0131.wav', 'we embedded a message into LJ002-0038.wav', 'we embedded a message into LJ001-0071.wav', 'we embedded a message into LJ001-0034.wav', 'we embedded a message into LJ002-0018.wav', 'we embedded a message into LJ002-0195.wav', 'we embedded a message into LJ003-0241.wav', 'we embedded a message into LJ001-0028.wav', 'we embedded a message into LJ003-0257.wav', 'we embedded a message into LJ002-0076.wav', 'we embedded a message into LJ003-0106.wav', 'we embedded a message into LJ003-0204.wav', 'we embedded a message into LJ003-0012.wav', 'we embedded a message into LJ003-0063.wav', 'we embedded a message into LJ002-0300.wav', 'we embedded a message into LJ002-0078.wav', 'we embedded a message into LJ003-0155.wav', 'we embedded a message into LJ002-0090.wav', 'we embedded a message into LJ002-0009.wav', 'we embedded a message into LJ002-0172.wav', 'we embedded a message into LJ002-0252.wav', 'we embedded a message into LJ002-0315.wav', 'we embedded a message into LJ002-0187.wav', 'we embedded a message into LJ003-0245.wav', 'we embedded a message into LJ002-0291.wav', 'we embedded a message into LJ003-0242.wav', 'we embedded a message into LJ003-0120.wav', 'we embedded a message into LJ002-0144.wav', 'we embedded a message into LJ003-0001.wav', 'we embedded a message into LJ002-0293.wav', 'we embedded a message into LJ003-0125.wav', 'we embedded a message into LJ003-0077.wav', 'we embedded a message into LJ002-0087.wav', 'we embedded a message into LJ003-0058.wav', 'we embedded a message into LJ002-0160.wav', 'we embedded a message into LJ001-0149.wav', 'we embedded a message into LJ003-0194.wav', 'we embedded a message into LJ002-0113.wav', 'we embedded a message into LJ001-0068.wav', 'we embedded a message into LJ003-0014.wav', 'we embedded a message into LJ003-0296.wav', 'we embedded a message into LJ001-0172.wav', 'we embedded a message into LJ002-0337.wav', 'we embedded a message into LJ002-0312.wav', 'we embedded a message into LJ002-0155.wav', 'we embedded a message into LJ001-0150.wav', 'we embedded a message into LJ001-0079.wav', 'we embedded a message into LJ003-0109.wav', 'we embedded a message into LJ002-0063.wav', 'we embedded a message into LJ002-0158.wav', 'we embedded a message into LJ003-0111.wav', 'we embedded a message into LJ002-0126.wav', 'we embedded a message into LJ002-0125.wav', 'we embedded a message into LJ001-0031.wav', 'we embedded a message into LJ001-0047.wav', 'we embedded a message into LJ003-0038.wav', 'we embedded a message into LJ002-0298.wav', 'we embedded a message into LJ003-0078.wav', 'we embedded a message into LJ003-0110.wav', 'we embedded a message into LJ003-0051.wav', 'we embedded a message into LJ001-0168.wav', 'we embedded a message into LJ003-0020.wav', 'we embedded a message into LJ002-0075.wav', 'we embedded a message into LJ002-0333.wav', 'we embedded a message into LJ001-0157.wav', 'we embedded a message into LJ002-0085.wav', 'we embedded a message into LJ003-0124.wav', 'we embedded a message into LJ003-0182.wav', 'we embedded a message into LJ003-0192.wav', 'we embedded a message into LJ002-0040.wav', 'we embedded a message into LJ001-0009.wav', 'we embedded a message into LJ003-0291.wav', 'we embedded a message into LJ002-0283.wav', 'we embedded a message into LJ002-0106.wav', 'we embedded a message into LJ002-0141.wav', 'we embedded a message into LJ002-0303.wav', 'we embedded a message into LJ003-0175.wav', 'we embedded a message into LJ001-0038.wav', 'we embedded a message into LJ003-0225.wav', 'we embedded a message into LJ002-0054.wav', 'we embedded a message into LJ001-0089.wav', 'we embedded a message into LJ003-0129.wav', 'we embedded a message into LJ001-0052.wav', 'we embedded a message into LJ002-0288.wav', 'we embedded a message into LJ003-0229.wav', 'we embedded a message into LJ001-0012.wav', 'we embedded a message into LJ003-0218.wav', 'we embedded a message into LJ001-0094.wav', 'we embedded a message into LJ002-0011.wav', 'we embedded a message into LJ002-0296.wav', 'we embedded a message into LJ002-0068.wav', 'we embedded a message into LJ003-0134.wav', 'we embedded a message into LJ002-0297.wav', 'we embedded a message into LJ002-0193.wav', 'we embedded a message into LJ001-0024.wav', 'we embedded a message into LJ003-0085.wav', 'we embedded a message into LJ001-0011.wav', 'we embedded a message into LJ001-0033.wav', 'we embedded a message into LJ002-0099.wav', 'we embedded a message into LJ002-0320.wav', 'we embedded a message into LJ001-0083.wav', 'we embedded a message into LJ003-0266.wav', 'we embedded a message into LJ002-0328.wav', 'we embedded a message into LJ002-0047.wav', 'we embedded a message into LJ003-0280.wav', 'we embedded a message into LJ001-0096.wav', 'we embedded a message into LJ002-0192.wav', 'we embedded a message into LJ002-0310.wav', 'we embedded a message into LJ002-0282.wav', 'we embedded a message into LJ002-0322.wav', 'we embedded a message into LJ001-0124.wav', 'we embedded a message into LJ002-0175.wav', 'we embedded a message into LJ003-0103.wav', 'we embedded a message into LJ001-0076.wav', 'we embedded a message into LJ003-0208.wav', 'we embedded a message into LJ002-0230.wav', 'we embedded a message into LJ001-0135.wav', 'we embedded a message into LJ003-0117.wav', 'we embedded a message into LJ002-0308.wav', 'we embedded a message into LJ001-0144.wav', 'we embedded a message into LJ003-0200.wav', 'we embedded a message into LJ003-0180.wav', 'we embedded a message into LJ001-0162.wav', 'we embedded a message into LJ001-0115.wav', 'we embedded a message into LJ002-0325.wav', 'we embedded a message into LJ002-0243.wav', 'we embedded a message into LJ002-0207.wav', 'we embedded a message into LJ001-0098.wav', 'we embedded a message into LJ002-0135.wav', 'we embedded a message into LJ002-0306.wav', 'we embedded a message into LJ001-0048.wav', 'we embedded a message into LJ003-0033.wav', 'we embedded a message into LJ002-0037.wav', 'we embedded a message into LJ003-0170.wav', 'we embedded a message into LJ003-0068.wav', 'we embedded a message into LJ001-0170.wav', 'we embedded a message into LJ001-0119.wav', 'we embedded a message into LJ003-0086.wav', 'we embedded a message into LJ002-0269.wav', 'we embedded a message into LJ002-0170.wav', 'we embedded a message into LJ003-0010.wav', 'we embedded a message into LJ003-0285.wav', 'we embedded a message into LJ003-0008.wav', 'we embedded a message into LJ003-0146.wav', 'we embedded a message into LJ003-0003.wav', 'we embedded a message into LJ002-0150.wav', 'we embedded a message into LJ003-0143.wav', 'we embedded a message into LJ003-0213.wav', 'we embedded a message into LJ001-0005.wav', 'we embedded a message into LJ001-0123.wav', 'we embedded a message into LJ003-0082.wav', 'we embedded a message into LJ002-0173.wav', 'we embedded a message into LJ003-0002.wav', 'we embedded a message into LJ003-0104.wav', 'we embedded a message into LJ003-0130.wav', 'we embedded a message into LJ003-0295.wav', 'we embedded a message into LJ003-0135.wav', 'we embedded a message into LJ001-0137.wav', 'we embedded a message into LJ001-0040.wav', 'we embedded a message into LJ003-0157.wav', 'we embedded a message into LJ002-0157.wav', 'we embedded a message into LJ001-0142.wav', 'we embedded a message into LJ002-0051.wav', 'we embedded a message into LJ003-0226.wav', 'we embedded a message into LJ003-0250.wav', 'we embedded a message into LJ002-0279.wav', 'we embedded a message into LJ002-0142.wav', 'we embedded a message into LJ001-0084.wav', 'we embedded a message into LJ002-0120.wav', 'we embedded a message into LJ003-0026.wav', 'we embedded a message into LJ001-0002.wav', 'we embedded a message into LJ003-0292.wav', 'we embedded a message into LJ001-0152.wav', 'we embedded a message into LJ003-0096.wav', 'we embedded a message into LJ003-0108.wav', 'we embedded a message into LJ003-0005.wav', 'we embedded a message into LJ002-0289.wav', 'we embedded a message into LJ002-0042.wav', 'we embedded a message into LJ003-0083.wav', 'we embedded a message into LJ002-0059.wav', 'we embedded a message into LJ001-0129.wav', 'we embedded a message into LJ002-0096.wav', 'we embedded a message into LJ002-0213.wav', 'we embedded a message into LJ002-0066.wav', 'we embedded a message into LJ003-0107.wav', 'we embedded a message into LJ002-0116.wav', 'we embedded a message into LJ003-0177.wav', 'we embedded a message into LJ003-0186.wav', 'we embedded a message into LJ003-0027.wav', 'we embedded a message into LJ002-0295.wav', 'we embedded a message into LJ001-0127.wav', 'we embedded a message into LJ002-0156.wav', 'we embedded a message into LJ002-0035.wav', 'we embedded a message into LJ001-0155.wav', 'we embedded a message into LJ003-0298.wav', 'we embedded a message into LJ002-0330.wav', 'we embedded a message into LJ003-0209.wav', 'we embedded a message into LJ003-0087.wav', 'we embedded a message into LJ003-0248.wav', 'we embedded a message into LJ002-0079.wav', 'we embedded a message into LJ003-0195.wav', 'we embedded a message into LJ003-0187.wav', 'we embedded a message into LJ001-0153.wav', 'we embedded a message into LJ001-0062.wav', 'we embedded a message into LJ001-0001.wav', 'we embedded a message into LJ001-0139.wav', 'we embedded a message into LJ003-0148.wav', 'we embedded a message into LJ003-0193.wav', 'we embedded a message into LJ003-0028.wav', 'we embedded a message into LJ003-0064.wav', 'we embedded a message into LJ001-0171.wav', 'we embedded a message into LJ003-0021.wav', 'we embedded a message into LJ002-0338.wav', 'we embedded a message into LJ001-0133.wav', 'we embedded a message into LJ002-0218.wav', 'we embedded a message into LJ001-0041.wav', 'we embedded a message into LJ003-0221.wav', 'we embedded a message into LJ003-0154.wav', 'we embedded a message into LJ001-0136.wav', 'we embedded a message into LJ001-0104.wav', 'we embedded a message into LJ002-0247.wav', 'we embedded a message into LJ001-0101.wav', 'we embedded a message into LJ002-0102.wav', 'we embedded a message into LJ002-0117.wav', 'we embedded a message into LJ003-0299.wav', 'we embedded a message into LJ002-0094.wav', 'we embedded a message into LJ003-0294.wav', 'we embedded a message into LJ001-0178.wav', 'we embedded a message into LJ003-0091.wav', 'we embedded a message into LJ003-0247.wav', 'we embedded a message into LJ001-0140.wav', 'we embedded a message into LJ002-0095.wav', 'we embedded a message into LJ003-0264.wav', 'we embedded a message into LJ003-0053.wav', 'we embedded a message into LJ002-0171.wav', 'we embedded a message into LJ003-0032.wav', 'we embedded a message into LJ001-0185.wav', 'we embedded a message into LJ002-0112.wav', 'we embedded a message into LJ001-0077.wav', 'we embedded a message into LJ003-0136.wav', 'we embedded a message into LJ003-0228.wav', 'we embedded a message into LJ003-0015.wav', 'we embedded a message into LJ003-0237.wav', 'we embedded a message into LJ002-0272.wav', 'we embedded a message into LJ003-0011.wav', 'we embedded a message into LJ003-0093.wav', 'we embedded a message into LJ003-0168.wav', 'we embedded a message into LJ003-0017.wav', 'we embedded a message into LJ002-0110.wav', 'we embedded a message into LJ001-0151.wav', 'we embedded a message into LJ001-0045.wav', 'we embedded a message into LJ003-0062.wav', 'we embedded a message into LJ001-0113.wav', 'we embedded a message into LJ001-0017.wav', 'we embedded a message into LJ001-0053.wav', 'we embedded a message into LJ002-0264.wav', 'we embedded a message into LJ002-0092.wav', 'we embedded a message into LJ002-0007.wav', 'we embedded a message into LJ003-0144.wav', 'we embedded a message into LJ001-0176.wav', 'we embedded a message into LJ001-0148.wav', 'we embedded a message into LJ001-0064.wav', 'we embedded a message into LJ003-0022.wav', 'we embedded a message into LJ003-0262.wav', 'we embedded a message into LJ001-0161.wav', 'we embedded a message into LJ002-0012.wav', 'we embedded a message into LJ002-0250.wav', 'we embedded a message into LJ002-0049.wav', 'we embedded a message into LJ002-0313.wav', 'we embedded a message into LJ001-0143.wav', 'we embedded a message into LJ002-0201.wav', 'we embedded a message into LJ002-0134.wav', 'we embedded a message into LJ001-0095.wav', 'we embedded a message into LJ002-0255.wav', 'we embedded a message into LJ001-0051.wav', 'we embedded a message into LJ003-0080.wav', 'we embedded a message into LJ003-0181.wav', 'we embedded a message into LJ003-0158.wav', 'we embedded a message into LJ002-0084.wav', 'we embedded a message into LJ003-0282.wav', 'we embedded a message into LJ001-0049.wav', 'we embedded a message into LJ002-0290.wav', 'we embedded a message into LJ002-0031.wav', 'we embedded a message into LJ003-0289.wav', 'we embedded a message into LJ002-0122.wav', 'we embedded a message into LJ001-0145.wav', 'we embedded a message into LJ003-0254.wav', 'we embedded a message into LJ003-0287.wav', 'we embedded a message into LJ002-0138.wav', 'we embedded a message into LJ001-0184.wav', 'we embedded a message into LJ002-0235.wav', 'we embedded a message into LJ003-0273.wav', 'we embedded a message into LJ002-0299.wav', 'we embedded a message into LJ001-0169.wav', 'we embedded a message into LJ002-0257.wav', 'we embedded a message into LJ002-0211.wav', 'we embedded a message into LJ037-0171.wav', 'we embedded a message into LJ001-0070.wav', 'we embedded a message into LJ002-0304.wav', 'we embedded a message into LJ002-0136.wav', 'we embedded a message into LJ002-0039.wav', 'we embedded a message into LJ003-0126.wav', 'we embedded a message into LJ003-0185.wav', 'we embedded a message into LJ002-0268.wav', 'we embedded a message into LJ002-0086.wav', 'we embedded a message into LJ002-0318.wav', 'we embedded a message into LJ002-0137.wav', 'we embedded a message into LJ003-0199.wav', 'we embedded a message into LJ001-0078.wav', 'we embedded a message into LJ001-0074.wav', 'we embedded a message into LJ003-0207.wav', 'we embedded a message into LJ002-0143.wav', 'we embedded a message into LJ003-0256.wav', 'we embedded a message into LJ003-0066.wav', 'we embedded a message into LJ003-0114.wav', 'we embedded a message into LJ002-0132.wav', 'we embedded a message into LJ003-0286.wav', 'we embedded a message into LJ002-0056.wav', 'we embedded a message into LJ002-0316.wav', 'we embedded a message into LJ003-0145.wav', 'we embedded a message into LJ002-0273.wav', 'we embedded a message into LJ001-0120.wav', 'we embedded a message into LJ003-0211.wav', 'we embedded a message into LJ002-0188.wav', 'we embedded a message into LJ003-0018.wav', 'we embedded a message into LJ002-0024.wav', 'we embedded a message into LJ003-0278.wav', 'we embedded a message into LJ003-0071.wav', 'we embedded a message into LJ002-0326.wav', 'we embedded a message into LJ003-0121.wav', 'we embedded a message into LJ002-0147.wav', 'we embedded a message into LJ001-0004.wav', 'we embedded a message into LJ002-0070.wav', 'we embedded a message into LJ002-0260.wav', 'we embedded a message into LJ002-0238.wav', 'we embedded a message into LJ002-0222.wav', 'we embedded a message into LJ001-0154.wav', 'we embedded a message into LJ001-0091.wav', 'we embedded a message into LJ002-0227.wav', 'we embedded a message into LJ002-0205.wav', 'we embedded a message into LJ003-0045.wav', 'we embedded a message into LJ003-0151.wav', 'we embedded a message into LJ003-0201.wav', 'we embedded a message into LJ001-0163.wav', 'we embedded a message into LJ002-0265.wav', 'we embedded a message into LJ003-0159.wav', 'we embedded a message into LJ002-0196.wav', 'we embedded a message into LJ003-0007.wav', 'we embedded a message into LJ002-0226.wav', 'we embedded a message into LJ001-0174.wav', 'we embedded a message into LJ002-0244.wav', 'we embedded a message into LJ003-0035.wav', 'we embedded a message into LJ001-0037.wav', 'we embedded a message into LJ002-0080.wav', 'we embedded a message into LJ002-0198.wav', 'we embedded a message into LJ003-0251.wav', 'we embedded a message into LJ003-0188.wav', 'we embedded a message into LJ001-0147.wav', 'we embedded a message into LJ001-0050.wav', 'we embedded a message into LJ003-0116.wav', 'we embedded a message into LJ002-0154.wav', 'we embedded a message into LJ002-0060.wav', 'we embedded a message into LJ001-0056.wav', 'we embedded a message into LJ002-0220.wav', 'we embedded a message into LJ003-0049.wav', 'we embedded a message into LJ003-0277.wav', 'we embedded a message into LJ001-0090.wav', 'we embedded a message into LJ002-0109.wav', 'we embedded a message into LJ003-0041.wav', 'we embedded a message into LJ002-0324.wav', 'we embedded a message into LJ002-0329.wav', 'we embedded a message into LJ003-0224.wav', 'we embedded a message into LJ003-0178.wav', 'we embedded a message into LJ003-0230.wav', 'we embedded a message into LJ003-0101.wav', 'we embedded a message into LJ001-0063.wav', 'we embedded a message into LJ003-0048.wav', 'we embedded a message into LJ002-0277.wav', 'we embedded a message into LJ001-0023.wav', 'we embedded a message into LJ001-0013.wav', 'we embedded a message into LJ002-0184.wav', 'we embedded a message into LJ002-0262.wav', 'we embedded a message into LJ002-0311.wav', 'we embedded a message into LJ002-0069.wav', 'we embedded a message into LJ002-0212.wav', 'we embedded a message into LJ002-0123.wav', 'we embedded a message into LJ002-0111.wav', 'we embedded a message into LJ003-0076.wav', 'we embedded a message into LJ002-0217.wav', 'we embedded a message into LJ002-0027.wav', 'we embedded a message into LJ001-0107.wav', 'we embedded a message into LJ002-0241.wav', 'we embedded a message into LJ002-0020.wav', 'we embedded a message into LJ001-0116.wav', 'we embedded a message into LJ002-0036.wav', 'we embedded a message into LJ002-0023.wav', 'we embedded a message into LJ002-0285.wav', 'we embedded a message into LJ002-0229.wav', 'we embedded a message into LJ003-0065.wav', 'we embedded a message into LJ003-0184.wav', 'we embedded a message into LJ003-0259.wav', 'we embedded a message into LJ002-0097.wav', 'we embedded a message into LJ002-0048.wav', 'we embedded a message into LJ001-0044.wav', 'we embedded a message into LJ002-0225.wav', 'we embedded a message into LJ002-0281.wav', 'we embedded a message into LJ003-0231.wav', 'we embedded a message into LJ003-0133.wav', 'we embedded a message into LJ001-0082.wav', 'we embedded a message into LJ003-0092.wav', 'we embedded a message into LJ003-0036.wav', 'we embedded a message into LJ002-0234.wav', 'we embedded a message into LJ002-0332.wav', 'we embedded a message into LJ003-0236.wav', 'we embedded a message into LJ002-0163.wav', 'we embedded a message into LJ002-0128.wav', 'we embedded a message into LJ003-0153.wav', 'we embedded a message into LJ002-0100.wav', 'we embedded a message into LJ003-0191.wav', 'we embedded a message into LJ002-0261.wav', 'we embedded a message into LJ002-0014.wav', 'we embedded a message into LJ003-0258.wav', 'we embedded a message into LJ002-0319.wav', 'we embedded a message into LJ002-0199.wav', 'we embedded a message into LJ003-0123.wav', 'we embedded a message into LJ003-0118.wav', 'we embedded a message into LJ003-0196.wav', 'we embedded a message into LJ001-0181.wav', 'we embedded a message into LJ001-0108.wav', 'we embedded a message into LJ002-0091.wav', 'we embedded a message into LJ001-0032.wav', 'we embedded a message into LJ002-0168.wav', 'we embedded a message into LJ002-0278.wav', 'we embedded a message into LJ003-0090.wav', 'we embedded a message into LJ003-0160.wav', 'we embedded a message into LJ001-0060.wav', 'we embedded a message into LJ002-0331.wav', 'we embedded a message into LJ003-0283.wav', 'we embedded a message into LJ002-0314.wav', 'we embedded a message into LJ002-0302.wav', 'we embedded a message into LJ002-0052.wav', 'we embedded a message into LJ002-0221.wav', 'we embedded a message into LJ001-0027.wav', 'we embedded a message into LJ002-0321.wav', 'we embedded a message into LJ001-0043.wav', 'we embedded a message into LJ003-0179.wav', 'we embedded a message into LJ002-0197.wav', 'we embedded a message into LJ002-0032.wav', 'we embedded a message into LJ003-0249.wav', 'we embedded a message into LJ001-0080.wav', 'we embedded a message into LJ002-0129.wav', 'we embedded a message into LJ002-0050.wav', 'we embedded a message into LJ001-0173.wav', 'we embedded a message into LJ003-0243.wav', 'we embedded a message into LJ003-0173.wav', 'we embedded a message into LJ002-0167.wav', 'we embedded a message into LJ001-0069.wav', 'we embedded a message into LJ003-0238.wav', 'we embedded a message into LJ002-0008.wav', 'we embedded a message into LJ002-0151.wav', 'we embedded a message into LJ001-0186.wav', 'we embedded a message into LJ003-0203.wav', 'we embedded a message into LJ003-0088.wav', 'we embedded a message into LJ001-0087.wav', 'we embedded a message into LJ002-0182.wav', 'we embedded a message into LJ003-0056.wav', 'we embedded a message into LJ002-0083.wav', 'we embedded a message into LJ003-0233.wav', 'we embedded a message into LJ002-0053.wav', 'we embedded a message into LJ003-0052.wav', 'we embedded a message into LJ002-0190.wav', 'we embedded a message into LJ003-0253.wav', 'we embedded a message into LJ002-0208.wav', 'we embedded a message into LJ003-0098.wav', 'we embedded a message into LJ003-0147.wav', 'we embedded a message into LJ002-0292.wav', 'we embedded a message into LJ003-0031.wav', 'we embedded a message into LJ002-0267.wav', 'we embedded a message into LJ003-0140.wav', 'we embedded a message into LJ002-0317.wav', 'we embedded a message into LJ002-0178.wav', 'we embedded a message into LJ003-0290.wav', 'we embedded a message into LJ001-0092.wav', 'we embedded a message into LJ003-0097.wav', 'we embedded a message into LJ001-0126.wav', 'we embedded a message into LJ003-0061.wav', 'we embedded a message into LJ002-0019.wav', 'we embedded a message into LJ002-0010.wav', 'we embedded a message into LJ002-0062.wav', 'we embedded a message into LJ002-0074.wav', 'we embedded a message into LJ001-0085.wav', 'we embedded a message into LJ002-0119.wav', 'we embedded a message into LJ002-0209.wav', 'we embedded a message into LJ002-0245.wav', 'we embedded a message into LJ002-0307.wav', 'we embedded a message into LJ002-0287.wav', 'we embedded a message into LJ002-0055.wav', 'we embedded a message into LJ003-0166.wav', 'we embedded a message into LJ003-0152.wav', 'we embedded a message into LJ002-0270.wav', 'we embedded a message into LJ003-0275.wav', 'we embedded a message into LJ003-0176.wav', 'we embedded a message into LJ001-0165.wav', 'we embedded a message into LJ001-0008.wav', 'we embedded a message into LJ003-0210.wav', 'we embedded a message into LJ001-0019.wav', 'we embedded a message into LJ002-0215.wav', 'we embedded a message into LJ003-0013.wav', 'we embedded a message into LJ003-0074.wav', 'we embedded a message into LJ002-0189.wav', 'we embedded a message into LJ003-0079.wav', 'we embedded a message into LJ002-0327.wav', 'we embedded a message into LJ002-0259.wav', 'we embedded a message into LJ002-0127.wav', 'we embedded a message into LJ001-0029.wav', 'we embedded a message into LJ002-0004.wav', 'we embedded a message into LJ003-0240.wav', 'we embedded a message into LJ003-0138.wav', 'we embedded a message into LJ002-0203.wav', 'we embedded a message into LJ002-0202.wav', 'we embedded a message into LJ003-0095.wav', 'we embedded a message into LJ002-0214.wav', 'we embedded a message into LJ002-0064.wav', 'we embedded a message into LJ002-0263.wav', 'we embedded a message into LJ002-0043.wav', 'we embedded a message into LJ001-0179.wav', 'we embedded a message into LJ002-0284.wav', 'we embedded a message into LJ002-0065.wav', 'we embedded a message into LJ001-0061.wav', 'we embedded a message into LJ002-0239.wav', 'we embedded a message into LJ002-0301.wav', 'we embedded a message into LJ001-0020.wav', 'we embedded a message into LJ003-0039.wav', 'we embedded a message into LJ002-0148.wav', 'we embedded a message into LJ003-0202.wav', 'we embedded a message into LJ002-0276.wav', 'we embedded a message into LJ002-0152.wav', 'we embedded a message into LJ002-0073.wav', 'we embedded a message into LJ003-0206.wav', 'we embedded a message into LJ002-0236.wav', 'we embedded a message into LJ002-0166.wav', 'we embedded a message into LJ003-0119.wav', 'we embedded a message into LJ002-0164.wav', 'we embedded a message into LJ001-0099.wav', 'we embedded a message into LJ002-0021.wav', 'we embedded a message into LJ003-0040.wav', 'we embedded a message into LJ003-0216.wav', 'we embedded a message into LJ002-0251.wav', 'we embedded a message into LJ002-0206.wav', 'we embedded a message into LJ002-0216.wav', 'we embedded a message into LJ003-0094.wav', 'we embedded a message into LJ003-0197.wav', 'we embedded a message into LJ003-0073.wav', 'we embedded a message into LJ003-0244.wav', 'we embedded a message into LJ003-0067.wav', 'we embedded a message into LJ001-0067.wav', 'we embedded a message into LJ001-0109.wav', 'we embedded a message into LJ001-0007.wav', 'we embedded a message into LJ003-0105.wav', 'we embedded a message into LJ002-0002.wav', 'we embedded a message into LJ001-0167.wav', 'we embedded a message into LJ001-0175.wav', 'we embedded a message into LJ002-0237.wav', 'we embedded a message into LJ002-0309.wav', 'we embedded a message into LJ001-0026.wav', 'we embedded a message into LJ002-0253.wav', 'we embedded a message into LJ003-0057.wav', 'we embedded a message into LJ001-0159.wav', 'we embedded a message into LJ002-0176.wav', 'we embedded a message into LJ001-0102.wav', 'we embedded a message into LJ003-0024.wav', 'we embedded a message into LJ001-0138.wav', 'we embedded a message into LJ002-0041.wav', 'we embedded a message into LJ003-0205.wav', 'we embedded a message into LJ003-0131.wav', 'we embedded a message into LJ001-0122.wav', 'we embedded a message into LJ025-0076.wav', 'we embedded a message into LJ002-0077.wav', 'we embedded a message into LJ002-0030.wav', 'we embedded a message into LJ003-0009.wav', 'we embedded a message into LJ002-0058.wav', 'we embedded a message into LJ003-0070.wav', 'we embedded a message into LJ002-0013.wav', 'we embedded a message into LJ003-0215.wav', 'we embedded a message into LJ003-0025.wav', 'we embedded a message into LJ003-0099.wav', 'we embedded a message into LJ003-0190.wav', 'we embedded a message into LJ003-0263.wav', 'we embedded a message into LJ002-0001.wav', 'we embedded a message into LJ001-0025.wav', 'we embedded a message into LJ003-0227.wav', 'we embedded a message into LJ002-0045.wav', 'we embedded a message into LJ003-0297.wav', 'we embedded a message into LJ002-0181.wav', 'we embedded a message into LJ002-0305.wav', 'we embedded a message into LJ002-0108.wav', 'we embedded a message into LJ001-0100.wav', 'we embedded a message into LJ003-0217.wav', 'we embedded a message into LJ001-0177.wav', 'we embedded a message into LJ001-0183.wav', 'we embedded a message into LJ003-0171.wav', 'we embedded a message into LJ002-0044.wav', 'we embedded a message into LJ001-0030.wav', 'we embedded a message into LJ002-0256.wav', 'we embedded a message into LJ001-0058.wav', 'we embedded a message into LJ002-0210.wav', 'we embedded a message into LJ003-0034.wav', 'we embedded a message into LJ003-0219.wav', 'we embedded a message into LJ003-0055.wav', 'we embedded a message into LJ002-0186.wav', 'we embedded a message into LJ001-0160.wav', 'we embedded a message into LJ002-0336.wav', 'we embedded a message into LJ003-0050.wav', 'we embedded a message into LJ002-0006.wav', 'we embedded a message into LJ001-0093.wav', 'we embedded a message into LJ002-0105.wav', 'we embedded a message into LJ002-0130.wav', 'we embedded a message into LJ001-0132.wav', 'we embedded a message into LJ003-0023.wav', 'we embedded a message into LJ003-0004.wav', 'we embedded a message into LJ002-0033.wav', 'we embedded a message into LJ002-0016.wav', 'we embedded a message into LJ003-0122.wav', 'we embedded a message into LJ002-0003.wav', 'we embedded a message into LJ001-0006.wav', 'we embedded a message into LJ002-0334.wav', 'we embedded a message into LJ001-0055.wav', 'we embedded a message into LJ003-0232.wav', 'we embedded a message into LJ002-0114.wav', 'we embedded a message into LJ002-0180.wav', 'we embedded a message into LJ002-0249.wav', 'we embedded a message into LJ002-0026.wav', 'we embedded a message into LJ003-0141.wav', 'we embedded a message into LJ003-0075.wav', 'we embedded a message into LJ003-0127.wav', 'we embedded a message into LJ003-0069.wav', 'we embedded a message into LJ002-0057.wav', 'we embedded a message into LJ003-0169.wav', 'we embedded a message into LJ002-0072.wav', 'we embedded a message into LJ001-0035.wav', 'we embedded a message into LJ001-0112.wav', 'we embedded a message into LJ003-0089.wav', 'we embedded a message into LJ003-0271.wav', 'we embedded a message into LJ001-0105.wav', 'we embedded a message into LJ001-0073.wav', 'we embedded a message into LJ002-0101.wav', 'we embedded a message into LJ003-0223.wav', 'we embedded a message into LJ001-0097.wav', 'we embedded a message into LJ001-0128.wav', 'we embedded a message into LJ003-0268.wav', 'we embedded a message into LJ003-0274.wav', 'we embedded a message into LJ002-0165.wav', 'we embedded a message into LJ003-0047.wav', 'we embedded a message into LJ002-0121.wav', 'we embedded a message into LJ001-0130.wav', 'we embedded a message into LJ003-0174.wav', 'we embedded a message into LJ003-0044.wav', 'we embedded a message into LJ002-0107.wav', 'we embedded a message into LJ003-0128.wav', 'we embedded a message into LJ001-0014.wav', 'we embedded a message into LJ002-0093.wav', 'we embedded a message into LJ002-0140.wav', 'we embedded a message into LJ003-0156.wav', 'we embedded a message into LJ003-0222.wav', 'we embedded a message into LJ003-0284.wav', 'we embedded a message into LJ003-0059.wav', 'we embedded a message into LJ002-0081.wav', 'we embedded a message into LJ001-0054.wav', 'we embedded a message into LJ002-0088.wav', 'we embedded a message into LJ001-0088.wav', 'we embedded a message into LJ001-0072.wav', 'we embedded a message into LJ002-0254.wav', 'we embedded a message into LJ003-0060.wav', 'we embedded a message into LJ003-0281.wav', 'we embedded a message into LJ002-0231.wav', 'we embedded a message into LJ002-0118.wav', 'we embedded a message into LJ003-0293.wav', 'we embedded a message into LJ001-0111.wav', 'we embedded a message into LJ003-0142.wav', 'we embedded a message into LJ002-0185.wav', 'we embedded a message into LJ003-0139.wav', 'we embedded a message into LJ002-0179.wav', 'we embedded a message into LJ003-0115.wav', 'we embedded a message into LJ002-0174.wav', 'we embedded a message into LJ002-0266.wav', 'we embedded a message into LJ002-0204.wav', 'we embedded a message into LJ003-0043.wav', 'we embedded a message into LJ002-0194.wav', 'we embedded a message into LJ003-0267.wav', 'we embedded a message into LJ003-0165.wav', 'we embedded a message into LJ003-0137.wav', 'we embedded a message into LJ003-0112.wav', 'we embedded a message into LJ001-0117.wav', 'we embedded a message into LJ003-0162.wav', 'we embedded a message into LJ003-0019.wav', 'we embedded a message into LJ001-0042.wav', 'we embedded a message into LJ002-0286.wav', 'we embedded a message into LJ001-0182.wav', 'we embedded a message into LJ001-0057.wav', 'we embedded a message into LJ002-0183.wav', 'we embedded a message into LJ002-0246.wav', 'we embedded a message into LJ001-0134.wav', 'we embedded a message into LJ003-0220.wav', 'we embedded a message into LJ002-0133.wav', 'we embedded a message into LJ002-0015.wav', 'we embedded a message into LJ002-0153.wav', 'we embedded a message into LJ003-0269.wav', 'we embedded a message into LJ001-0003.wav', 'we embedded a message into LJ003-0246.wav', 'we embedded a message into LJ003-0163.wav', 'we embedded a message into LJ002-0104.wav', 'we embedded a message into LJ002-0005.wav', 'we embedded a message into LJ003-0150.wav', 'we embedded a message into LJ002-0162.wav', 'we embedded a message into LJ003-0037.wav', 'we embedded a message into LJ002-0232.wav', 'we embedded a message into LJ001-0146.wav', 'we embedded a message into LJ002-0242.wav', 'we embedded a message into LJ003-0261.wav', 'we embedded a message into LJ003-0234.wav', 'we embedded a message into LJ001-0158.wav', 'we embedded a message into LJ003-0265.wav', 'we embedded a message into LJ002-0219.wav', 'we embedded a message into LJ003-0276.wav', 'we embedded a message into LJ002-0034.wav', 'we embedded a message into LJ003-0239.wav', 'we embedded a message into LJ003-0235.wav', 'we embedded a message into LJ002-0061.wav', 'we embedded a message into LJ002-0131.wav', 'we embedded a message into LJ002-0228.wav', 'we embedded a message into LJ002-0022.wav', 'we embedded a message into LJ003-0164.wav', 'we embedded a message into LJ001-0018.wav', 'we embedded a message into LJ001-0022.wav', 'we embedded a message into LJ002-0029.wav', 'we embedded a message into LJ003-0167.wav']\n"
     ]
    }
   ],
   "source": [
    "input_files_dir = \"input_files\"\n",
    "output_files_dir = \"output_files\"\n",
    "extracted_messages = []\n",
    "\n",
    "for filename in os.listdir(input_files_dir):\n",
    "    if filename.endswith(\".wav\"):\n",
    "        audio_file = os.path.join(input_files_dir, filename)\n",
    "        message = f'we embedded a message into {os.path.splitext(os.path.basename(audio_file))[0]}.wav'\n",
    "        embed(audio_file, message)\n",
    "        \n",
    "        embedded_audio_file = os.path.join(output_files_dir, os.path.splitext(os.path.basename(audio_file))[0] + \"_embedded.wav\")\n",
    "        extracted_message = extract(embedded_audio_file)\n",
    "        \n",
    "        extracted_messages.append(extracted_message)\n",
    "\n",
    "print(\"Extracted messages:\", extracted_messages)"
   ]
  },
  {
   "cell_type": "code",
   "execution_count": 63,
   "metadata": {},
   "outputs": [],
   "source": [
    "def extract_features(audio_file):\n",
    "    y, sr = librosa.load(audio_file)\n",
    "    mfccs = librosa.feature.mfcc(y=y, sr=sr, n_mfcc=8)\n",
    "    return np.mean(mfccs, axis=1)  "
   ]
  },
  {
   "cell_type": "code",
   "execution_count": 64,
   "metadata": {},
   "outputs": [],
   "source": [
    "input_files_dir = 'input_files'\n",
    "output_files_dir = 'output_files'\n",
    "\n",
    "input_data = []\n",
    "input_labels = []\n",
    "input_filenames = []\n",
    "\n",
    "output_data = []\n",
    "output_labels = []\n",
    "output_filenames = []\n",
    "output_correct = []\n",
    "\n",
    "for filename in os.listdir(input_files_dir):\n",
    "    if filename.endswith('.wav'):\n",
    "        audio_file = os.path.join(input_files_dir, filename)\n",
    "        features = extract_features(audio_file)\n",
    "        input_data.append(features)\n",
    "        input_labels.append(0)\n",
    "        input_filenames.append(filename)\n",
    "\n",
    "for filename in os.listdir(output_files_dir):\n",
    "    if filename.endswith('.wav'):\n",
    "        audio_file = os.path.join(output_files_dir, filename)\n",
    "        features = extract_features(audio_file)\n",
    "        output_data.append(features)\n",
    "        output_labels.append(1)\n",
    "        output_filenames.append(filename)\n",
    "        output_correct.append(extract(audio_file) == f'we embedded a message into {os.path.splitext(os.path.basename(audio_file))[0].split(\"_\")[0]}.wav')\n",
    "\n",
    "input_df = pd.DataFrame({\n",
    "    'filename': input_filenames,\n",
    "    'data': input_data,\n",
    "    'label': input_labels,\n",
    "})\n",
    "\n",
    "output_df = pd.DataFrame({\n",
    "    'filename': output_filenames,\n",
    "    'data': output_data,\n",
    "    'label': output_labels,\n",
    "    'output_correct': output_correct\n",
    "})\n",
    "\n",
    "df = pd.concat([input_df, output_df], ignore_index=True)"
   ]
  },
  {
   "cell_type": "code",
   "execution_count": 65,
   "metadata": {},
   "outputs": [
    {
     "data": {
      "text/html": [
       "<div>\n",
       "<style scoped>\n",
       "    .dataframe tbody tr th:only-of-type {\n",
       "        vertical-align: middle;\n",
       "    }\n",
       "\n",
       "    .dataframe tbody tr th {\n",
       "        vertical-align: top;\n",
       "    }\n",
       "\n",
       "    .dataframe thead th {\n",
       "        text-align: right;\n",
       "    }\n",
       "</style>\n",
       "<table border=\"1\" class=\"dataframe\">\n",
       "  <thead>\n",
       "    <tr style=\"text-align: right;\">\n",
       "      <th></th>\n",
       "      <th>filename</th>\n",
       "      <th>data</th>\n",
       "      <th>label</th>\n",
       "      <th>output_correct</th>\n",
       "    </tr>\n",
       "  </thead>\n",
       "  <tbody>\n",
       "    <tr>\n",
       "      <th>0</th>\n",
       "      <td>LJ003-0252.wav</td>\n",
       "      <td>[-302.39178, 82.564545, -1.0848303, 12.105384,...</td>\n",
       "      <td>0</td>\n",
       "      <td>NaN</td>\n",
       "    </tr>\n",
       "    <tr>\n",
       "      <th>1</th>\n",
       "      <td>LJ001-0118.wav</td>\n",
       "      <td>[-253.91824, 97.19213, -16.520079, 10.717499, ...</td>\n",
       "      <td>0</td>\n",
       "      <td>NaN</td>\n",
       "    </tr>\n",
       "    <tr>\n",
       "      <th>2</th>\n",
       "      <td>LJ003-0300.wav</td>\n",
       "      <td>[-290.78378, 74.56775, 10.23219, 14.446426, -1...</td>\n",
       "      <td>0</td>\n",
       "      <td>NaN</td>\n",
       "    </tr>\n",
       "    <tr>\n",
       "      <th>3</th>\n",
       "      <td>LJ001-0016.wav</td>\n",
       "      <td>[-271.20184, 83.41064, -8.515509, 10.252653, -...</td>\n",
       "      <td>0</td>\n",
       "      <td>NaN</td>\n",
       "    </tr>\n",
       "    <tr>\n",
       "      <th>4</th>\n",
       "      <td>LJ002-0258.wav</td>\n",
       "      <td>[-285.11084, 98.32171, 1.92898, 15.974557, -9....</td>\n",
       "      <td>0</td>\n",
       "      <td>NaN</td>\n",
       "    </tr>\n",
       "    <tr>\n",
       "      <th>...</th>\n",
       "      <td>...</td>\n",
       "      <td>...</td>\n",
       "      <td>...</td>\n",
       "      <td>...</td>\n",
       "    </tr>\n",
       "    <tr>\n",
       "      <th>1637</th>\n",
       "      <td>LJ003-0183_embedded.wav</td>\n",
       "      <td>[-311.7116, 75.53801, 12.410514, 15.653378, -1...</td>\n",
       "      <td>1</td>\n",
       "      <td>True</td>\n",
       "    </tr>\n",
       "    <tr>\n",
       "      <th>1638</th>\n",
       "      <td>LJ002-0258_embedded.wav</td>\n",
       "      <td>[-285.03586, 98.26799, 1.9814262, 15.931101, -...</td>\n",
       "      <td>1</td>\n",
       "      <td>True</td>\n",
       "    </tr>\n",
       "    <tr>\n",
       "      <th>1639</th>\n",
       "      <td>LJ003-0061_embedded.wav</td>\n",
       "      <td>[-332.191, 79.15021, 14.579301, 19.426817, -9....</td>\n",
       "      <td>1</td>\n",
       "      <td>True</td>\n",
       "    </tr>\n",
       "    <tr>\n",
       "      <th>1640</th>\n",
       "      <td>LJ003-0264_embedded.wav</td>\n",
       "      <td>[-269.27316, 84.935165, 2.5807147, 3.1040783, ...</td>\n",
       "      <td>1</td>\n",
       "      <td>True</td>\n",
       "    </tr>\n",
       "    <tr>\n",
       "      <th>1641</th>\n",
       "      <td>LJ003-0067_embedded.wav</td>\n",
       "      <td>[-267.48688, 72.092766, 15.703989, 28.987637, ...</td>\n",
       "      <td>1</td>\n",
       "      <td>True</td>\n",
       "    </tr>\n",
       "  </tbody>\n",
       "</table>\n",
       "<p>1642 rows × 4 columns</p>\n",
       "</div>"
      ],
      "text/plain": [
       "                     filename  \\\n",
       "0              LJ003-0252.wav   \n",
       "1              LJ001-0118.wav   \n",
       "2              LJ003-0300.wav   \n",
       "3              LJ001-0016.wav   \n",
       "4              LJ002-0258.wav   \n",
       "...                       ...   \n",
       "1637  LJ003-0183_embedded.wav   \n",
       "1638  LJ002-0258_embedded.wav   \n",
       "1639  LJ003-0061_embedded.wav   \n",
       "1640  LJ003-0264_embedded.wav   \n",
       "1641  LJ003-0067_embedded.wav   \n",
       "\n",
       "                                                   data  label output_correct  \n",
       "0     [-302.39178, 82.564545, -1.0848303, 12.105384,...      0            NaN  \n",
       "1     [-253.91824, 97.19213, -16.520079, 10.717499, ...      0            NaN  \n",
       "2     [-290.78378, 74.56775, 10.23219, 14.446426, -1...      0            NaN  \n",
       "3     [-271.20184, 83.41064, -8.515509, 10.252653, -...      0            NaN  \n",
       "4     [-285.11084, 98.32171, 1.92898, 15.974557, -9....      0            NaN  \n",
       "...                                                 ...    ...            ...  \n",
       "1637  [-311.7116, 75.53801, 12.410514, 15.653378, -1...      1           True  \n",
       "1638  [-285.03586, 98.26799, 1.9814262, 15.931101, -...      1           True  \n",
       "1639  [-332.191, 79.15021, 14.579301, 19.426817, -9....      1           True  \n",
       "1640  [-269.27316, 84.935165, 2.5807147, 3.1040783, ...      1           True  \n",
       "1641  [-267.48688, 72.092766, 15.703989, 28.987637, ...      1           True  \n",
       "\n",
       "[1642 rows x 4 columns]"
      ]
     },
     "execution_count": 65,
     "metadata": {},
     "output_type": "execute_result"
    }
   ],
   "source": [
    "df.head(-6)"
   ]
  },
  {
   "cell_type": "code",
   "execution_count": 66,
   "metadata": {},
   "outputs": [
    {
     "name": "stdout",
     "output_type": "stream",
     "text": [
      "Number of incorrect messages: 0\n"
     ]
    }
   ],
   "source": [
    "output_files = df[df['label'] == 1]\n",
    "incorrect_messages = output_files[output_files['output_correct'] == False]\n",
    "\n",
    "print(\"Number of incorrect messages:\", len(incorrect_messages))"
   ]
  },
  {
   "cell_type": "code",
   "execution_count": 67,
   "metadata": {},
   "outputs": [
    {
     "name": "stdout",
     "output_type": "stream",
     "text": [
      "Accuracy: 0.3242424242424242\n",
      "Classification Report:\n",
      "              precision    recall  f1-score   support\n",
      "\n",
      "           0       0.19      0.09      0.12       176\n",
      "           1       0.36      0.60      0.45       154\n",
      "\n",
      "    accuracy                           0.32       330\n",
      "   macro avg       0.28      0.34      0.29       330\n",
      "weighted avg       0.27      0.32      0.27       330\n",
      "\n"
     ]
    }
   ],
   "source": [
    "X = np.vstack((input_data, output_data))\n",
    "y = np.hstack((input_labels, output_labels))\n",
    "\n",
    "X_train, X_test, y_train, y_test = train_test_split(X, y, test_size=0.2, random_state=42)\n",
    "\n",
    "scaler = StandardScaler()\n",
    "X_train_scaled = scaler.fit_transform(X_train)\n",
    "X_test_scaled = scaler.transform(X_test)\n",
    "\n",
    "clf = SVC(kernel='rbf', gamma='scale')\n",
    "clf.fit(X_train_scaled, y_train)\n",
    "\n",
    "y_pred = clf.predict(X_test_scaled)\n",
    "accuracy = accuracy_score(y_test, y_pred)\n",
    "report = classification_report(y_test, y_pred)\n",
    "\n",
    "print('Accuracy:', accuracy)\n",
    "print('Classification Report:')\n",
    "print(report)"
   ]
  },
  {
   "cell_type": "code",
   "execution_count": 68,
   "metadata": {},
   "outputs": [
    {
     "name": "stdout",
     "output_type": "stream",
     "text": [
      "Accuracy: 0.10606060606060606\n",
      "Classification Report:\n",
      "              precision    recall  f1-score   support\n",
      "\n",
      "           0       0.11      0.09      0.10       176\n",
      "           1       0.11      0.12      0.11       154\n",
      "\n",
      "    accuracy                           0.11       330\n",
      "   macro avg       0.11      0.11      0.11       330\n",
      "weighted avg       0.11      0.11      0.11       330\n",
      "\n"
     ]
    }
   ],
   "source": [
    "# Train Random Forest classifier\n",
    "clf = RandomForestClassifier(n_estimators=100, random_state=42)\n",
    "clf.fit(X_train_scaled, y_train)\n",
    "\n",
    "# Predict labels for test data\n",
    "y_pred = clf.predict(X_test_scaled)\n",
    "\n",
    "# Evaluate classifier\n",
    "accuracy = accuracy_score(y_test, y_pred)\n",
    "report = classification_report(y_test, y_pred)\n",
    "\n",
    "print('Accuracy:', accuracy)\n",
    "print('Classification Report:')\n",
    "print(report)"
   ]
  },
  {
   "cell_type": "code",
   "execution_count": 69,
   "metadata": {},
   "outputs": [
    {
     "name": "stdout",
     "output_type": "stream",
     "text": [
      "Epoch 1/10\n"
     ]
    },
    {
     "name": "stderr",
     "output_type": "stream",
     "text": [
      "/usr/local/lib/python3.10/dist-packages/keras/src/layers/rnn/rnn.py:204: UserWarning: Do not pass an `input_shape`/`input_dim` argument to a layer. When using Sequential models, prefer using an `Input(shape)` object as the first layer in the model instead.\n",
      "  super().__init__(**kwargs)\n"
     ]
    },
    {
     "name": "stdout",
     "output_type": "stream",
     "text": [
      "\u001b[1m33/33\u001b[0m \u001b[32m━━━━━━━━━━━━━━━━━━━━\u001b[0m\u001b[37m\u001b[0m \u001b[1m2s\u001b[0m 11ms/step - accuracy: 0.4905 - loss: 0.7780 - val_accuracy: 0.5152 - val_loss: 0.6916\n",
      "Epoch 2/10\n",
      "\u001b[1m33/33\u001b[0m \u001b[32m━━━━━━━━━━━━━━━━━━━━\u001b[0m\u001b[37m\u001b[0m \u001b[1m0s\u001b[0m 7ms/step - accuracy: 0.4953 - loss: 0.6975 - val_accuracy: 0.5455 - val_loss: 0.6894\n",
      "Epoch 3/10\n",
      "\u001b[1m33/33\u001b[0m \u001b[32m━━━━━━━━━━━━━━━━━━━━\u001b[0m\u001b[37m\u001b[0m \u001b[1m0s\u001b[0m 7ms/step - accuracy: 0.4916 - loss: 0.6955 - val_accuracy: 0.5379 - val_loss: 0.6917\n",
      "Epoch 4/10\n",
      "\u001b[1m33/33\u001b[0m \u001b[32m━━━━━━━━━━━━━━━━━━━━\u001b[0m\u001b[37m\u001b[0m \u001b[1m0s\u001b[0m 5ms/step - accuracy: 0.5269 - loss: 0.6951 - val_accuracy: 0.4773 - val_loss: 0.6999\n",
      "Epoch 5/10\n",
      "\u001b[1m33/33\u001b[0m \u001b[32m━━━━━━━━━━━━━━━━━━━━\u001b[0m\u001b[37m\u001b[0m \u001b[1m0s\u001b[0m 5ms/step - accuracy: 0.4803 - loss: 0.6963 - val_accuracy: 0.5152 - val_loss: 0.6928\n",
      "Epoch 6/10\n",
      "\u001b[1m33/33\u001b[0m \u001b[32m━━━━━━━━━━━━━━━━━━━━\u001b[0m\u001b[37m\u001b[0m \u001b[1m0s\u001b[0m 5ms/step - accuracy: 0.5207 - loss: 0.6941 - val_accuracy: 0.4697 - val_loss: 0.7026\n",
      "Epoch 7/10\n",
      "\u001b[1m33/33\u001b[0m \u001b[32m━━━━━━━━━━━━━━━━━━━━\u001b[0m\u001b[37m\u001b[0m \u001b[1m0s\u001b[0m 4ms/step - accuracy: 0.4998 - loss: 0.6946 - val_accuracy: 0.5189 - val_loss: 0.6889\n",
      "Epoch 8/10\n",
      "\u001b[1m33/33\u001b[0m \u001b[32m━━━━━━━━━━━━━━━━━━━━\u001b[0m\u001b[37m\u001b[0m \u001b[1m0s\u001b[0m 5ms/step - accuracy: 0.4975 - loss: 0.6957 - val_accuracy: 0.4848 - val_loss: 0.6962\n",
      "Epoch 9/10\n",
      "\u001b[1m33/33\u001b[0m \u001b[32m━━━━━━━━━━━━━━━━━━━━\u001b[0m\u001b[37m\u001b[0m \u001b[1m0s\u001b[0m 5ms/step - accuracy: 0.4924 - loss: 0.6937 - val_accuracy: 0.4811 - val_loss: 0.6942\n",
      "Epoch 10/10\n",
      "\u001b[1m33/33\u001b[0m \u001b[32m━━━━━━━━━━━━━━━━━━━━\u001b[0m\u001b[37m\u001b[0m \u001b[1m0s\u001b[0m 5ms/step - accuracy: 0.5220 - loss: 0.6927 - val_accuracy: 0.4735 - val_loss: 0.7128\n",
      "\u001b[1m11/11\u001b[0m \u001b[32m━━━━━━━━━━━━━━━━━━━━\u001b[0m\u001b[37m\u001b[0m \u001b[1m0s\u001b[0m 2ms/step - accuracy: 0.5588 - loss: 0.6880 \n",
      "Test Loss: 0.6933944225311279\n",
      "Test Accuracy: 0.5333333611488342\n"
     ]
    }
   ],
   "source": [
    "from sklearn.model_selection import train_test_split\n",
    "from tensorflow.keras.models import Sequential\n",
    "from tensorflow.keras.layers import LSTM, Dense\n",
    "\n",
    "X_train, X_test, y_train, y_test = train_test_split(X, y, test_size=0.2, random_state=42)\n",
    "\n",
    "X_train = X_train.reshape(X_train.shape[0], X_train.shape[1], 1)\n",
    "X_test = X_test.reshape(X_test.shape[0], X_test.shape[1], 1)\n",
    "\n",
    "model = Sequential([\n",
    "    LSTM(64, input_shape=(X_train.shape[1], X_train.shape[2])),\n",
    "    Dense(1, activation='sigmoid')\n",
    "])\n",
    "\n",
    "model.compile(optimizer='adam', loss='binary_crossentropy', metrics=['accuracy'])\n",
    "model.fit(X_train, y_train, epochs=10, batch_size=32, validation_split=0.2)\n",
    "\n",
    "loss, accuracy = model.evaluate(X_test, y_test)\n",
    "print('Test Loss:', loss)\n",
    "print('Test Accuracy:', accuracy)"
   ]
  }
 ],
 "metadata": {
  "kernelspec": {
   "display_name": "Python 3",
   "language": "python",
   "name": "python3"
  },
  "language_info": {
   "codemirror_mode": {
    "name": "ipython",
    "version": 3
   },
   "file_extension": ".py",
   "mimetype": "text/x-python",
   "name": "python",
   "nbconvert_exporter": "python",
   "pygments_lexer": "ipython3",
   "version": "3.10.12"
  }
 },
 "nbformat": 4,
 "nbformat_minor": 2
}
