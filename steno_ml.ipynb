{
 "cells": [
  {
   "cell_type": "markdown",
   "metadata": {},
   "source": [
    "# Final Project -- Audio Steganography & MFCC Steganalysis"
   ]
  },
  {
   "cell_type": "markdown",
   "metadata": {},
   "source": [
    "## Amanda Foster"
   ]
  },
  {
   "cell_type": "code",
   "execution_count": 492,
   "metadata": {},
   "outputs": [],
   "source": [
    "import os\n",
    "import librosa\n",
    "import numpy as np\n",
    "from sklearn.model_selection import train_test_split\n",
    "from sklearn.preprocessing import StandardScaler\n",
    "from sklearn.svm import SVC\n",
    "from sklearn.ensemble import RandomForestClassifier\n",
    "from sklearn.metrics import accuracy_score, classification_report\n",
    "from sklearn.discriminant_analysis import LinearDiscriminantAnalysis\n",
    "import matplotlib.pyplot as plt\n",
    "import wave\n",
    "from scipy.signal import butter, filtfilt\n",
    "import pandas as pd"
   ]
  },
  {
   "cell_type": "code",
   "execution_count": 493,
   "metadata": {},
   "outputs": [],
   "source": [
    "def insert_data(audio_file, message, output_file):\n",
    "    try: \n",
    "      with wave.open(audio_file, 'rb') as file:\n",
    "          frame_bytes = bytearray(file.readframes(file.getnframes()))\n",
    "          sr = file.getframerate()\n",
    "      \n",
    "      message += \"#####\"\n",
    "      message_bits = ''.join(format(ord(char), '08b') for char in message)\n",
    "      message_length = len(message_bits)\n",
    "      \n",
    "      if message_length * 2 > len(frame_bytes):\n",
    "          raise ValueError(\"Message is too large to be embedded in the audio file.\")\n",
    "      \n",
    "      for i in range(message_length):\n",
    "          frame_bytes[i] &= 0xFE\n",
    "          frame_bytes[i] |= int(message_bits[i])\n",
    "      \n",
    "      with wave.open(output_file, 'wb') as file:\n",
    "          file.setparams((1, 2, sr, len(frame_bytes), 'NONE', 'not compressed'))\n",
    "          file.writeframes(frame_bytes)\n",
    "      \n",
    "    except Exception as e:\n",
    "      print(\"An error occured while embedding the file: \", e)\n",
    "\n",
    "\n",
    "def encode(audio_file, message):\n",
    "  output_file = os.path.join(\"output_files\", os.path.splitext(os.path.basename(audio_file))[0] + \"_embedded\")\n",
    "  output_file += \".wav\"\n",
    "  \n",
    "  insert_data(audio_file, message, output_file)"
   ]
  },
  {
   "cell_type": "code",
   "execution_count": 494,
   "metadata": {},
   "outputs": [],
   "source": [
    "def extract_data(audio_file):\n",
    "  try:\n",
    "    with wave.open(audio_file, 'rb') as file:\n",
    "        frame_bytes = bytearray(file.readframes(file.getnframes()))\n",
    "    \n",
    "    extracted_bits = []\n",
    "    for byte in frame_bytes:\n",
    "        extracted_bit = byte & 1\n",
    "        extracted_bits.append(extracted_bit)\n",
    "    \n",
    "    extracted_message = ''.join(chr(int(''.join(map(str, extracted_bits[i:i+8])), 2)) for i in range(0, len(extracted_bits), 8))\n",
    "    \n",
    "    end_index = extracted_message.find('#####')\n",
    "    if end_index != -1:\n",
    "        extracted_message = extracted_message[:end_index]\n",
    "    \n",
    "    return extracted_message\n",
    "  \n",
    "  except Exception as e:\n",
    "    print(\"An error occurred while extracting the message\", e)\n",
    "    return None\n",
    "  \n",
    "def decode(audio_file):\n",
    "  extracted_message = extract_data(audio_file)\n",
    "  return extracted_message"
   ]
  },
  {
   "cell_type": "code",
   "execution_count": 495,
   "metadata": {},
   "outputs": [],
   "source": [
    "def compute_entropy(signal):\n",
    "  hist, _ = np.histogram(signal, bins=256, range=(0,255))\n",
    "  probs = hist / np.sum(hist)\n",
    "  entropy = -np.sum(probs * np.log2(probs + 1e-10))\n",
    "  return entropy"
   ]
  },
  {
   "cell_type": "code",
   "execution_count": 496,
   "metadata": {},
   "outputs": [],
   "source": [
    "def extract_features(audio_file):\n",
    "  num_mfccs = 60\n",
    "  y, sr = librosa.load(audio_file)\n",
    "  mfccs = librosa.feature.mfcc(y=y, sr=sr, n_mfcc=num_mfccs)\n",
    "  mfccs = np.mean(mfccs, axis=0)\n",
    "  \n",
    "  var = np.var(y)\n",
    "  cov = float(np.cov(y))\n",
    "  mean = np.mean(y)\n",
    "  median = np.median(y)\n",
    "  entropy = compute_entropy(y)\n",
    "\n",
    "  mfccs_list = [mfccs[i] for i in range(0,num_mfccs)]  \n",
    "  features = mfccs_list + [var, cov, mean, median, entropy]\n",
    "  \n",
    "  return features"
   ]
  },
  {
   "cell_type": "markdown",
   "metadata": {},
   "source": [
    "## Reading Input Files and Embedding Messages"
   ]
  },
  {
   "cell_type": "code",
   "execution_count": 497,
   "metadata": {},
   "outputs": [
    {
     "name": "stdout",
     "output_type": "stream",
     "text": [
      "Extracted messages: ['we embedded a message into LJ003-0252.wav', 'we embedded a message into LJ001-0118.wav', 'we embedded a message into LJ003-0300.wav', 'we embedded a message into LJ001-0016.wav', 'we embedded a message into LJ002-0258.wav']\n"
     ]
    }
   ],
   "source": [
    "input_files_dir = \"input_files\"\n",
    "output_files_dir = \"output_files\"\n",
    "extracted_messages = []\n",
    "\n",
    "input_data = []\n",
    "input_labels = []\n",
    "input_filenames = []\n",
    "\n",
    "for filename in os.listdir(input_files_dir):\n",
    "    if filename.endswith(\".wav\"):\n",
    "        audio_file = os.path.join(input_files_dir, filename)\n",
    "        message = f'we embedded a message into {os.path.splitext(os.path.basename(audio_file))[0]}.wav'\n",
    "        encode(audio_file, message)\n",
    "        \n",
    "        embedded_audio_file = os.path.join(output_files_dir, os.path.splitext(os.path.basename(audio_file))[0] + \"_embedded.wav\")\n",
    "        extracted_message = decode(embedded_audio_file)\n",
    "        \n",
    "        extracted_messages.append(extracted_message)\n",
    "        \n",
    "        features = extract_features(audio_file)\n",
    "        input_data.append(features)\n",
    "        input_labels.append(0)\n",
    "        input_filenames.append(filename)\n",
    "\n",
    "print(\"Extracted messages:\", extracted_messages[0:5])"
   ]
  },
  {
   "cell_type": "markdown",
   "metadata": {},
   "source": [
    "## Reading Output Files"
   ]
  },
  {
   "cell_type": "code",
   "execution_count": 498,
   "metadata": {},
   "outputs": [],
   "source": [
    "output_data = []\n",
    "output_labels = []\n",
    "output_filenames = []\n",
    "output_correct = []\n",
    "\n",
    "for filename in os.listdir(output_files_dir):\n",
    "    if filename.endswith('.wav'):\n",
    "        audio_file = os.path.join(output_files_dir, filename)\n",
    "        features = extract_features(audio_file)\n",
    "        output_data.append(features)\n",
    "        output_labels.append(1)\n",
    "        output_filenames.append(filename)\n",
    "        output_correct.append(decode(audio_file) == f'we embedded a message into {os.path.splitext(os.path.basename(audio_file))[0].split(\"_\")[0]}.wav')"
   ]
  },
  {
   "cell_type": "code",
   "execution_count": 499,
   "metadata": {},
   "outputs": [
    {
     "data": {
      "text/html": [
       "<div>\n",
       "<style scoped>\n",
       "    .dataframe tbody tr th:only-of-type {\n",
       "        vertical-align: middle;\n",
       "    }\n",
       "\n",
       "    .dataframe tbody tr th {\n",
       "        vertical-align: top;\n",
       "    }\n",
       "\n",
       "    .dataframe thead th {\n",
       "        text-align: right;\n",
       "    }\n",
       "</style>\n",
       "<table border=\"1\" class=\"dataframe\">\n",
       "  <thead>\n",
       "    <tr style=\"text-align: right;\">\n",
       "      <th></th>\n",
       "      <th>filename</th>\n",
       "      <th>features</th>\n",
       "      <th>label</th>\n",
       "      <th>output_correct</th>\n",
       "    </tr>\n",
       "  </thead>\n",
       "  <tbody>\n",
       "    <tr>\n",
       "      <th>0</th>\n",
       "      <td>LJ003-0252.wav</td>\n",
       "      <td>[-7.4575434, -6.7175727, -6.6358967, -6.94033,...</td>\n",
       "      <td>0</td>\n",
       "      <td>NaN</td>\n",
       "    </tr>\n",
       "    <tr>\n",
       "      <th>1</th>\n",
       "      <td>LJ001-0118.wav</td>\n",
       "      <td>[-6.7034698, -5.5601625, -5.975423, -6.106264,...</td>\n",
       "      <td>0</td>\n",
       "      <td>NaN</td>\n",
       "    </tr>\n",
       "    <tr>\n",
       "      <th>2</th>\n",
       "      <td>LJ003-0300.wav</td>\n",
       "      <td>[-7.9909806, -7.0308933, -5.8685746, -4.882595...</td>\n",
       "      <td>0</td>\n",
       "      <td>NaN</td>\n",
       "    </tr>\n",
       "    <tr>\n",
       "      <th>3</th>\n",
       "      <td>LJ001-0016.wav</td>\n",
       "      <td>[-7.0968084, -5.983182, -6.495754, -7.5794964,...</td>\n",
       "      <td>0</td>\n",
       "      <td>NaN</td>\n",
       "    </tr>\n",
       "    <tr>\n",
       "      <th>4</th>\n",
       "      <td>LJ002-0258.wav</td>\n",
       "      <td>[-6.710439, -5.975958, -6.0198135, -5.640287, ...</td>\n",
       "      <td>0</td>\n",
       "      <td>NaN</td>\n",
       "    </tr>\n",
       "    <tr>\n",
       "      <th>...</th>\n",
       "      <td>...</td>\n",
       "      <td>...</td>\n",
       "      <td>...</td>\n",
       "      <td>...</td>\n",
       "    </tr>\n",
       "    <tr>\n",
       "      <th>1637</th>\n",
       "      <td>LJ003-0183_embedded.wav</td>\n",
       "      <td>[-6.113185, -6.6125593, -8.641822, -8.114795, ...</td>\n",
       "      <td>1</td>\n",
       "      <td>True</td>\n",
       "    </tr>\n",
       "    <tr>\n",
       "      <th>1638</th>\n",
       "      <td>LJ002-0258_embedded.wav</td>\n",
       "      <td>[-5.056022, -5.4978404, -6.0077496, -5.640287,...</td>\n",
       "      <td>1</td>\n",
       "      <td>True</td>\n",
       "    </tr>\n",
       "    <tr>\n",
       "      <th>1639</th>\n",
       "      <td>LJ003-0061_embedded.wav</td>\n",
       "      <td>[-5.9386363, -6.567407, -7.933168, -7.339717, ...</td>\n",
       "      <td>1</td>\n",
       "      <td>True</td>\n",
       "    </tr>\n",
       "    <tr>\n",
       "      <th>1640</th>\n",
       "      <td>LJ003-0264_embedded.wav</td>\n",
       "      <td>[-5.482971, -5.7169714, -7.3388376, -7.5587873...</td>\n",
       "      <td>1</td>\n",
       "      <td>True</td>\n",
       "    </tr>\n",
       "    <tr>\n",
       "      <th>1641</th>\n",
       "      <td>LJ003-0067_embedded.wav</td>\n",
       "      <td>[-6.412577, -6.1962786, -6.1288395, -6.1489835...</td>\n",
       "      <td>1</td>\n",
       "      <td>True</td>\n",
       "    </tr>\n",
       "  </tbody>\n",
       "</table>\n",
       "<p>1642 rows × 4 columns</p>\n",
       "</div>"
      ],
      "text/plain": [
       "                     filename  \\\n",
       "0              LJ003-0252.wav   \n",
       "1              LJ001-0118.wav   \n",
       "2              LJ003-0300.wav   \n",
       "3              LJ001-0016.wav   \n",
       "4              LJ002-0258.wav   \n",
       "...                       ...   \n",
       "1637  LJ003-0183_embedded.wav   \n",
       "1638  LJ002-0258_embedded.wav   \n",
       "1639  LJ003-0061_embedded.wav   \n",
       "1640  LJ003-0264_embedded.wav   \n",
       "1641  LJ003-0067_embedded.wav   \n",
       "\n",
       "                                               features  label output_correct  \n",
       "0     [-7.4575434, -6.7175727, -6.6358967, -6.94033,...      0            NaN  \n",
       "1     [-6.7034698, -5.5601625, -5.975423, -6.106264,...      0            NaN  \n",
       "2     [-7.9909806, -7.0308933, -5.8685746, -4.882595...      0            NaN  \n",
       "3     [-7.0968084, -5.983182, -6.495754, -7.5794964,...      0            NaN  \n",
       "4     [-6.710439, -5.975958, -6.0198135, -5.640287, ...      0            NaN  \n",
       "...                                                 ...    ...            ...  \n",
       "1637  [-6.113185, -6.6125593, -8.641822, -8.114795, ...      1           True  \n",
       "1638  [-5.056022, -5.4978404, -6.0077496, -5.640287,...      1           True  \n",
       "1639  [-5.9386363, -6.567407, -7.933168, -7.339717, ...      1           True  \n",
       "1640  [-5.482971, -5.7169714, -7.3388376, -7.5587873...      1           True  \n",
       "1641  [-6.412577, -6.1962786, -6.1288395, -6.1489835...      1           True  \n",
       "\n",
       "[1642 rows x 4 columns]"
      ]
     },
     "execution_count": 499,
     "metadata": {},
     "output_type": "execute_result"
    }
   ],
   "source": [
    "input_df = pd.DataFrame({\n",
    "    'filename': input_filenames,\n",
    "    'features': input_data,\n",
    "    'label': input_labels,\n",
    "})\n",
    "\n",
    "output_df = pd.DataFrame({\n",
    "    'filename': output_filenames,\n",
    "    'features': output_data,\n",
    "    'label': output_labels,\n",
    "    'output_correct': output_correct\n",
    "})\n",
    "\n",
    "df = pd.concat([input_df, output_df], ignore_index=True)\n",
    "\n",
    "df.head(-6)"
   ]
  },
  {
   "cell_type": "code",
   "execution_count": 500,
   "metadata": {},
   "outputs": [
    {
     "name": "stdout",
     "output_type": "stream",
     "text": [
      "Number of incorrect messages: 0\n"
     ]
    }
   ],
   "source": [
    "output_files = df[df['label'] == 1]\n",
    "incorrect_messages = output_files[output_files['output_correct'] == False]\n",
    "\n",
    "print(\"Number of incorrect messages:\", len(incorrect_messages))"
   ]
  },
  {
   "cell_type": "markdown",
   "metadata": {},
   "source": [
    "\n",
    "# Detecting with ML Techniques"
   ]
  },
  {
   "cell_type": "code",
   "execution_count": 501,
   "metadata": {},
   "outputs": [],
   "source": [
    "X = np.array(df['features'].tolist())\n",
    "y = df['label'].values"
   ]
  },
  {
   "cell_type": "markdown",
   "metadata": {},
   "source": [
    "### SVM"
   ]
  },
  {
   "cell_type": "code",
   "execution_count": 502,
   "metadata": {},
   "outputs": [
    {
     "name": "stdout",
     "output_type": "stream",
     "text": [
      "Accuracy: 0.8878787878787879\n"
     ]
    }
   ],
   "source": [
    "X_train, X_test, y_train, y_test = train_test_split(X, y, test_size=0.2, random_state=42)\n",
    "\n",
    "lda = LinearDiscriminantAnalysis()\n",
    "X_train = lda.fit_transform(X_train, y_train)\n",
    "X_test = lda.transform(X_test)\n",
    "\n",
    "clf = SVC(kernel='rbf', gamma='scale')\n",
    "clf.fit(X_train, y_train)\n",
    "\n",
    "y_pred = clf.predict(X_test)\n",
    "\n",
    "accuracy = accuracy_score(y_test, y_pred)\n",
    "print('Accuracy:', accuracy)"
   ]
  },
  {
   "cell_type": "markdown",
   "metadata": {},
   "source": [
    "### Random Forests"
   ]
  },
  {
   "cell_type": "code",
   "execution_count": 503,
   "metadata": {},
   "outputs": [
    {
     "name": "stdout",
     "output_type": "stream",
     "text": [
      "Accuracy: 0.8848484848484849\n"
     ]
    }
   ],
   "source": [
    "X_train, X_test, y_train, y_test = train_test_split(X, y, test_size=0.2, random_state=42)\n",
    "\n",
    "lda = LinearDiscriminantAnalysis()\n",
    "X_train = lda.fit_transform(X_train, y_train)\n",
    "X_test = lda.transform(X_test)\n",
    "\n",
    "clf = RandomForestClassifier(n_estimators=10, random_state=42)\n",
    "clf.fit(X_train, y_train)\n",
    "\n",
    "y_pred = clf.predict(X_test)\n",
    "\n",
    "accuracy = accuracy_score(y_test, y_pred)\n",
    "\n",
    "print('Accuracy:', accuracy)"
   ]
  }
 ],
 "metadata": {
  "kernelspec": {
   "display_name": "Python 3",
   "language": "python",
   "name": "python3"
  },
  "language_info": {
   "codemirror_mode": {
    "name": "ipython",
    "version": 3
   },
   "file_extension": ".py",
   "mimetype": "text/x-python",
   "name": "python",
   "nbconvert_exporter": "python",
   "pygments_lexer": "ipython3",
   "version": "3.10.12"
  }
 },
 "nbformat": 4,
 "nbformat_minor": 2
}
